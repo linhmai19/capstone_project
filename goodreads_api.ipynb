{
 "cells": [
  {
   "cell_type": "code",
   "execution_count": 1,
   "metadata": {},
   "outputs": [],
   "source": [
    "import json\n",
    "import pandas as pd\n",
    "import requests"
   ]
  },
  {
   "cell_type": "code",
   "execution_count": 2,
   "metadata": {},
   "outputs": [],
   "source": [
    "def get_keys(path):\n",
    "    with open(path) as f:\n",
    "        return json.load(f)"
   ]
  },
  {
   "cell_type": "code",
   "execution_count": 3,
   "metadata": {},
   "outputs": [],
   "source": [
    "keys = get_keys(\"/Users/Quan/.secret/goodreads_api.json\")\n",
    "api_key = keys['api_key']"
   ]
  },
  {
   "cell_type": "code",
   "execution_count": 4,
   "metadata": {},
   "outputs": [],
   "source": [
    "# Run the code line \"api_key\" to print out the key for Goodreads API\n",
    "# api_key"
   ]
  },
  {
   "cell_type": "code",
   "execution_count": 5,
   "metadata": {},
   "outputs": [
    {
     "data": {
      "text/html": [
       "<div>\n",
       "<style scoped>\n",
       "    .dataframe tbody tr th:only-of-type {\n",
       "        vertical-align: middle;\n",
       "    }\n",
       "\n",
       "    .dataframe tbody tr th {\n",
       "        vertical-align: top;\n",
       "    }\n",
       "\n",
       "    .dataframe thead th {\n",
       "        text-align: right;\n",
       "    }\n",
       "</style>\n",
       "<table border=\"1\" class=\"dataframe\">\n",
       "  <thead>\n",
       "    <tr style=\"text-align: right;\">\n",
       "      <th></th>\n",
       "      <th>publisher</th>\n",
       "      <th>dagger</th>\n",
       "      <th>author</th>\n",
       "      <th>primary_isbn10</th>\n",
       "      <th>price</th>\n",
       "      <th>primary_isbn13</th>\n",
       "      <th>date</th>\n",
       "      <th>contributor</th>\n",
       "      <th>title</th>\n",
       "      <th>weeks_on_list</th>\n",
       "    </tr>\n",
       "  </thead>\n",
       "  <tbody>\n",
       "    <tr>\n",
       "      <th>0</th>\n",
       "      <td>Riverhead</td>\n",
       "      <td>0</td>\n",
       "      <td>Paula Hawkins</td>\n",
       "      <td>1594634025</td>\n",
       "      <td>0</td>\n",
       "      <td>9.78159E+12</td>\n",
       "      <td>2017-02-19</td>\n",
       "      <td>by Paula Hawkins</td>\n",
       "      <td>THE GIRL ON THE TRAIN</td>\n",
       "      <td>102</td>\n",
       "    </tr>\n",
       "    <tr>\n",
       "      <th>1</th>\n",
       "      <td>Scribner</td>\n",
       "      <td>0</td>\n",
       "      <td>Anthony Doerr</td>\n",
       "      <td>1501173219</td>\n",
       "      <td>0</td>\n",
       "      <td>9.7815E+12</td>\n",
       "      <td>2017-05-07</td>\n",
       "      <td>by Anthony Doerr</td>\n",
       "      <td>ALL THE LIGHT WE CANNOT SEE</td>\n",
       "      <td>81</td>\n",
       "    </tr>\n",
       "    <tr>\n",
       "      <th>2</th>\n",
       "      <td>Vintage</td>\n",
       "      <td>0</td>\n",
       "      <td>E L James</td>\n",
       "      <td>525431888</td>\n",
       "      <td>0</td>\n",
       "      <td>9.78053E+12</td>\n",
       "      <td>2017-03-05</td>\n",
       "      <td>by E. L. James</td>\n",
       "      <td>FIFTY SHADES DARKER</td>\n",
       "      <td>66</td>\n",
       "    </tr>\n",
       "    <tr>\n",
       "      <th>3</th>\n",
       "      <td>St. Martin's</td>\n",
       "      <td>0</td>\n",
       "      <td>Kristin Hannah</td>\n",
       "      <td>1466850604</td>\n",
       "      <td>0</td>\n",
       "      <td>9.78147E+12</td>\n",
       "      <td>2017-10-29</td>\n",
       "      <td>by Kristin Hannah</td>\n",
       "      <td>THE NIGHTINGALE</td>\n",
       "      <td>63</td>\n",
       "    </tr>\n",
       "    <tr>\n",
       "      <th>4</th>\n",
       "      <td>Penguin Group</td>\n",
       "      <td>0</td>\n",
       "      <td>Kathryn Stockett</td>\n",
       "      <td>1440697663</td>\n",
       "      <td>0</td>\n",
       "      <td>9.78144E+12</td>\n",
       "      <td>2012-04-08</td>\n",
       "      <td>by Kathryn Stockett</td>\n",
       "      <td>THE HELP</td>\n",
       "      <td>58</td>\n",
       "    </tr>\n",
       "  </tbody>\n",
       "</table>\n",
       "</div>"
      ],
      "text/plain": [
       "       publisher  dagger            author primary_isbn10  price  \\\n",
       "0      Riverhead       0     Paula Hawkins     1594634025      0   \n",
       "1       Scribner       0     Anthony Doerr     1501173219      0   \n",
       "2        Vintage       0         E L James      525431888      0   \n",
       "3   St. Martin's       0    Kristin Hannah     1466850604      0   \n",
       "4  Penguin Group       0  Kathryn Stockett     1440697663      0   \n",
       "\n",
       "  primary_isbn13        date          contributor  \\\n",
       "0    9.78159E+12  2017-02-19     by Paula Hawkins   \n",
       "1     9.7815E+12  2017-05-07     by Anthony Doerr   \n",
       "2    9.78053E+12  2017-03-05       by E. L. James   \n",
       "3    9.78147E+12  2017-10-29    by Kristin Hannah   \n",
       "4    9.78144E+12  2012-04-08  by Kathryn Stockett   \n",
       "\n",
       "                         title  weeks_on_list  \n",
       "0        THE GIRL ON THE TRAIN            102  \n",
       "1  ALL THE LIGHT WE CANNOT SEE             81  \n",
       "2          FIFTY SHADES DARKER             66  \n",
       "3              THE NIGHTINGALE             63  \n",
       "4                     THE HELP             58  "
      ]
     },
     "execution_count": 5,
     "metadata": {},
     "output_type": "execute_result"
    }
   ],
   "source": [
    "df = pd.read_csv('cleaned_books.csv')\n",
    "df = df.drop('Unnamed: 0', 1)\n",
    "df.head()"
   ]
  },
  {
   "cell_type": "code",
   "execution_count": 6,
   "metadata": {},
   "outputs": [
    {
     "name": "stdout",
     "output_type": "stream",
     "text": [
      "<class 'pandas.core.frame.DataFrame'>\n",
      "RangeIndex: 2073 entries, 0 to 2072\n",
      "Data columns (total 10 columns):\n",
      " #   Column          Non-Null Count  Dtype \n",
      "---  ------          --------------  ----- \n",
      " 0   publisher       2073 non-null   object\n",
      " 1   dagger          2073 non-null   int64 \n",
      " 2   author          2073 non-null   object\n",
      " 3   primary_isbn10  2073 non-null   object\n",
      " 4   price           2073 non-null   int64 \n",
      " 5   primary_isbn13  2073 non-null   object\n",
      " 6   date            2073 non-null   object\n",
      " 7   contributor     2073 non-null   object\n",
      " 8   title           2073 non-null   object\n",
      " 9   weeks_on_list   2073 non-null   int64 \n",
      "dtypes: int64(3), object(7)\n",
      "memory usage: 162.1+ KB\n"
     ]
    }
   ],
   "source": [
    "df.info()"
   ]
  },
  {
   "cell_type": "code",
   "execution_count": 7,
   "metadata": {},
   "outputs": [
    {
     "data": {
      "text/plain": [
       "publisher         0\n",
       "dagger            0\n",
       "author            0\n",
       "primary_isbn10    0\n",
       "price             0\n",
       "primary_isbn13    0\n",
       "date              0\n",
       "contributor       0\n",
       "title             0\n",
       "weeks_on_list     0\n",
       "dtype: int64"
      ]
     },
     "execution_count": 7,
     "metadata": {},
     "output_type": "execute_result"
    }
   ],
   "source": [
    "df.isnull().sum()"
   ]
  },
  {
   "cell_type": "code",
   "execution_count": null,
   "metadata": {},
   "outputs": [],
   "source": [
    "df_10 = df.loc[df['primary_isbn10'].str.len() == 10]\n",
    "df_10.head()"
   ]
  },
  {
   "cell_type": "code",
   "execution_count": null,
   "metadata": {},
   "outputs": [],
   "source": [
    "# Make a list of ISBN-10 for API later\n",
    "isbn_list = df_10['primary_isbn10'].to_list()\n",
    "isbn_list"
   ]
  },
  {
   "cell_type": "code",
   "execution_count": null,
   "metadata": {
    "scrolled": true
   },
   "outputs": [],
   "source": [
    "for i in isbn_list:\n",
    "    response = requests.get('https://www.goodreads.com/book/review_counts.json?key=&isbns=' + str(i))\n",
    "    print(i)\n",
    "    dict_api = response.json()\n",
    "    print(dict_api)\n",
    "    book_review_stats = pd.DataFrame(dict_api)\n",
    "\n",
    "book_review_stats.to_csv('review_stats.csv')"
   ]
  },
  {
   "cell_type": "code",
   "execution_count": null,
   "metadata": {},
   "outputs": [],
   "source": []
  },
  {
   "cell_type": "code",
   "execution_count": null,
   "metadata": {},
   "outputs": [],
   "source": []
  },
  {
   "cell_type": "code",
   "execution_count": null,
   "metadata": {},
   "outputs": [],
   "source": []
  },
  {
   "cell_type": "code",
   "execution_count": null,
   "metadata": {},
   "outputs": [],
   "source": []
  },
  {
   "cell_type": "code",
   "execution_count": null,
   "metadata": {},
   "outputs": [],
   "source": [
    "# for date in date_series:\n",
    "#     date_string = 'T'.join(str(date).split(' '))\n",
    "#     print(date_string)\n",
    "#     response = requests.get('https://api.darksky.net/forecast/6faf9a5452b99be192c9cf383956da1b/29.9804989,-95.3396578,' + date_string)\n",
    "#     weather_dict = response.json()\n",
    "#     hourly = weather_dict['hourly']['data']\n",
    "#     hourly_weather_per_day = pd.DataFrame(hourly)\n",
    "#     if date_series[0] == date:\n",
    "#         year_of_hourly_weather = pd.DataFrame(hourly_weather_per_day)\n",
    "#     else:   \n",
    "#         year_of_hourly_weather = year_of_hourly_weather.append(hourly_weather_per_day)\n",
    "\n",
    "# year_of_hourly_weather.to_csv('weather_2015_raw.csv')\n",
    "\n",
    "\n",
    "\n",
    "# # commenting out to not re run\n"
   ]
  },
  {
   "cell_type": "code",
   "execution_count": null,
   "metadata": {},
   "outputs": [],
   "source": []
  },
  {
   "cell_type": "code",
   "execution_count": null,
   "metadata": {},
   "outputs": [],
   "source": []
  },
  {
   "cell_type": "code",
   "execution_count": null,
   "metadata": {},
   "outputs": [],
   "source": []
  },
  {
   "cell_type": "code",
   "execution_count": null,
   "metadata": {},
   "outputs": [],
   "source": []
  },
  {
   "cell_type": "code",
   "execution_count": null,
   "metadata": {},
   "outputs": [],
   "source": []
  },
  {
   "cell_type": "code",
   "execution_count": null,
   "metadata": {},
   "outputs": [],
   "source": [
    "# result = requests.get('https://www.goodreads.com/book/review_counts.json?key=')"
   ]
  },
  {
   "cell_type": "code",
   "execution_count": null,
   "metadata": {},
   "outputs": [],
   "source": [
    "# result.status_code"
   ]
  },
  {
   "cell_type": "code",
   "execution_count": null,
   "metadata": {},
   "outputs": [],
   "source": []
  }
 ],
 "metadata": {
  "kernelspec": {
   "display_name": "Python 3",
   "language": "python",
   "name": "python3"
  },
  "language_info": {
   "codemirror_mode": {
    "name": "ipython",
    "version": 3
   },
   "file_extension": ".py",
   "mimetype": "text/x-python",
   "name": "python",
   "nbconvert_exporter": "python",
   "pygments_lexer": "ipython3",
   "version": "3.7.6"
  }
 },
 "nbformat": 4,
 "nbformat_minor": 4
}
