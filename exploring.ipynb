{
 "cells": [
  {
   "cell_type": "code",
   "execution_count": 1,
   "metadata": {},
   "outputs": [],
   "source": [
    "import pandas as pd\n",
    "import numpy as np\n",
    "import matplotlib.pyplot as plt\n",
    "%matplotlib inline"
   ]
  },
  {
   "cell_type": "code",
   "execution_count": 2,
   "metadata": {},
   "outputs": [
    {
     "data": {
      "text/html": [
       "<div>\n",
       "<style scoped>\n",
       "    .dataframe tbody tr th:only-of-type {\n",
       "        vertical-align: middle;\n",
       "    }\n",
       "\n",
       "    .dataframe tbody tr th {\n",
       "        vertical-align: top;\n",
       "    }\n",
       "\n",
       "    .dataframe thead th {\n",
       "        text-align: right;\n",
       "    }\n",
       "</style>\n",
       "<table border=\"1\" class=\"dataframe\">\n",
       "  <thead>\n",
       "    <tr style=\"text-align: right;\">\n",
       "      <th></th>\n",
       "      <th>publisher</th>\n",
       "      <th>dagger</th>\n",
       "      <th>book_review_link</th>\n",
       "      <th>author</th>\n",
       "      <th>primary_isbn10</th>\n",
       "      <th>price</th>\n",
       "      <th>primary_isbn13</th>\n",
       "      <th>sunday_review_link</th>\n",
       "      <th>date</th>\n",
       "      <th>first_chapter_link</th>\n",
       "      <th>contributor</th>\n",
       "      <th>title</th>\n",
       "      <th>age_group</th>\n",
       "      <th>weeks_on_list</th>\n",
       "    </tr>\n",
       "  </thead>\n",
       "  <tbody>\n",
       "    <tr>\n",
       "      <th>0</th>\n",
       "      <td>Riverhead</td>\n",
       "      <td>0</td>\n",
       "      <td>https://www.nytimes.com/2015/01/05/books/the-g...</td>\n",
       "      <td>Paula Hawkins</td>\n",
       "      <td>1594634025</td>\n",
       "      <td>0</td>\n",
       "      <td>9.78159E+12</td>\n",
       "      <td>https://www.nytimes.com/2015/02/01/books/revie...</td>\n",
       "      <td>2/19/17</td>\n",
       "      <td>NaN</td>\n",
       "      <td>by Paula Hawkins</td>\n",
       "      <td>THE GIRL ON THE TRAIN</td>\n",
       "      <td>NaN</td>\n",
       "      <td>102</td>\n",
       "    </tr>\n",
       "    <tr>\n",
       "      <th>1</th>\n",
       "      <td>Scribner</td>\n",
       "      <td>0</td>\n",
       "      <td>NaN</td>\n",
       "      <td>Anthony Doerr</td>\n",
       "      <td>1501173219</td>\n",
       "      <td>0</td>\n",
       "      <td>9.7815E+12</td>\n",
       "      <td>https://www.nytimes.com/2014/05/11/books/revie...</td>\n",
       "      <td>5/7/17</td>\n",
       "      <td>NaN</td>\n",
       "      <td>by Anthony Doerr</td>\n",
       "      <td>ALL THE LIGHT WE CANNOT SEE</td>\n",
       "      <td>NaN</td>\n",
       "      <td>81</td>\n",
       "    </tr>\n",
       "    <tr>\n",
       "      <th>2</th>\n",
       "      <td>Vintage</td>\n",
       "      <td>0</td>\n",
       "      <td>NaN</td>\n",
       "      <td>E L James</td>\n",
       "      <td>525431888</td>\n",
       "      <td>0</td>\n",
       "      <td>9.78053E+12</td>\n",
       "      <td>NaN</td>\n",
       "      <td>3/5/17</td>\n",
       "      <td>NaN</td>\n",
       "      <td>by E. L. James</td>\n",
       "      <td>FIFTY SHADES DARKER</td>\n",
       "      <td>NaN</td>\n",
       "      <td>66</td>\n",
       "    </tr>\n",
       "    <tr>\n",
       "      <th>3</th>\n",
       "      <td>St. Martin's</td>\n",
       "      <td>0</td>\n",
       "      <td>NaN</td>\n",
       "      <td>Kristin Hannah</td>\n",
       "      <td>1466850604</td>\n",
       "      <td>0</td>\n",
       "      <td>9.78147E+12</td>\n",
       "      <td>NaN</td>\n",
       "      <td>10/29/17</td>\n",
       "      <td>NaN</td>\n",
       "      <td>by Kristin Hannah</td>\n",
       "      <td>THE NIGHTINGALE</td>\n",
       "      <td>NaN</td>\n",
       "      <td>63</td>\n",
       "    </tr>\n",
       "    <tr>\n",
       "      <th>4</th>\n",
       "      <td>Penguin Group</td>\n",
       "      <td>0</td>\n",
       "      <td>https://www.nytimes.com/2009/02/19/books/19mas...</td>\n",
       "      <td>Kathryn Stockett</td>\n",
       "      <td>1440697663</td>\n",
       "      <td>0</td>\n",
       "      <td>9.78144E+12</td>\n",
       "      <td>NaN</td>\n",
       "      <td>4/8/12</td>\n",
       "      <td>NaN</td>\n",
       "      <td>by Kathryn Stockett</td>\n",
       "      <td>THE HELP</td>\n",
       "      <td>NaN</td>\n",
       "      <td>58</td>\n",
       "    </tr>\n",
       "  </tbody>\n",
       "</table>\n",
       "</div>"
      ],
      "text/plain": [
       "       publisher  dagger                                   book_review_link  \\\n",
       "0      Riverhead       0  https://www.nytimes.com/2015/01/05/books/the-g...   \n",
       "1       Scribner       0                                                NaN   \n",
       "2        Vintage       0                                                NaN   \n",
       "3   St. Martin's       0                                                NaN   \n",
       "4  Penguin Group       0  https://www.nytimes.com/2009/02/19/books/19mas...   \n",
       "\n",
       "             author primary_isbn10  price primary_isbn13  \\\n",
       "0     Paula Hawkins     1594634025      0    9.78159E+12   \n",
       "1     Anthony Doerr     1501173219      0     9.7815E+12   \n",
       "2         E L James      525431888      0    9.78053E+12   \n",
       "3    Kristin Hannah     1466850604      0    9.78147E+12   \n",
       "4  Kathryn Stockett     1440697663      0    9.78144E+12   \n",
       "\n",
       "                                  sunday_review_link      date  \\\n",
       "0  https://www.nytimes.com/2015/02/01/books/revie...   2/19/17   \n",
       "1  https://www.nytimes.com/2014/05/11/books/revie...    5/7/17   \n",
       "2                                                NaN    3/5/17   \n",
       "3                                                NaN  10/29/17   \n",
       "4                                                NaN    4/8/12   \n",
       "\n",
       "  first_chapter_link          contributor                        title  \\\n",
       "0                NaN     by Paula Hawkins        THE GIRL ON THE TRAIN   \n",
       "1                NaN     by Anthony Doerr  ALL THE LIGHT WE CANNOT SEE   \n",
       "2                NaN       by E. L. James          FIFTY SHADES DARKER   \n",
       "3                NaN    by Kristin Hannah              THE NIGHTINGALE   \n",
       "4                NaN  by Kathryn Stockett                     THE HELP   \n",
       "\n",
       "   age_group  weeks_on_list  \n",
       "0        NaN            102  \n",
       "1        NaN             81  \n",
       "2        NaN             66  \n",
       "3        NaN             63  \n",
       "4        NaN             58  "
      ]
     },
     "execution_count": 2,
     "metadata": {},
     "output_type": "execute_result"
    }
   ],
   "source": [
    "df = pd.read_csv('books.csv', encoding='latin1')\n",
    "df.head()"
   ]
  },
  {
   "cell_type": "code",
   "execution_count": 3,
   "metadata": {},
   "outputs": [
    {
     "name": "stdout",
     "output_type": "stream",
     "text": [
      "<class 'pandas.core.frame.DataFrame'>\n",
      "RangeIndex: 2249 entries, 0 to 2248\n",
      "Data columns (total 14 columns):\n",
      " #   Column              Non-Null Count  Dtype  \n",
      "---  ------              --------------  -----  \n",
      " 0   publisher           2249 non-null   object \n",
      " 1   dagger              2249 non-null   int64  \n",
      " 2   book_review_link    136 non-null    object \n",
      " 3   author              2249 non-null   object \n",
      " 4   primary_isbn10      2073 non-null   object \n",
      " 5   price               2249 non-null   int64  \n",
      " 6   primary_isbn13      2248 non-null   object \n",
      " 7   sunday_review_link  130 non-null    object \n",
      " 8   date                2249 non-null   object \n",
      " 9   first_chapter_link  6 non-null      object \n",
      " 10  contributor         2249 non-null   object \n",
      " 11  title               2249 non-null   object \n",
      " 12  age_group           0 non-null      float64\n",
      " 13  weeks_on_list       2249 non-null   int64  \n",
      "dtypes: float64(1), int64(3), object(10)\n",
      "memory usage: 246.1+ KB\n"
     ]
    }
   ],
   "source": [
    "df.info()"
   ]
  },
  {
   "cell_type": "markdown",
   "metadata": {},
   "source": [
    "# Missing Values"
   ]
  },
  {
   "cell_type": "code",
   "execution_count": 4,
   "metadata": {},
   "outputs": [
    {
     "data": {
      "text/plain": [
       "publisher                0\n",
       "dagger                   0\n",
       "book_review_link      2113\n",
       "author                   0\n",
       "primary_isbn10         176\n",
       "price                    0\n",
       "primary_isbn13           1\n",
       "sunday_review_link    2119\n",
       "date                     0\n",
       "first_chapter_link    2243\n",
       "contributor              0\n",
       "title                    0\n",
       "age_group             2249\n",
       "weeks_on_list            0\n",
       "dtype: int64"
      ]
     },
     "execution_count": 4,
     "metadata": {},
     "output_type": "execute_result"
    }
   ],
   "source": [
    "# Check for missing values in each column\n",
    "df.isna().sum()"
   ]
  },
  {
   "cell_type": "markdown",
   "metadata": {},
   "source": [
    "There seem to be a lot of missing values (94% to 99%) in columns 'book_review_link', 'sunday_review_link', and 'first_chapter_link'. All these three columns are dropped as it will be useless to keep them in the dataset. I will use API later to add more necessary columns/features later. "
   ]
  },
  {
   "cell_type": "code",
   "execution_count": 5,
   "metadata": {},
   "outputs": [
    {
     "data": {
      "text/html": [
       "<div>\n",
       "<style scoped>\n",
       "    .dataframe tbody tr th:only-of-type {\n",
       "        vertical-align: middle;\n",
       "    }\n",
       "\n",
       "    .dataframe tbody tr th {\n",
       "        vertical-align: top;\n",
       "    }\n",
       "\n",
       "    .dataframe thead th {\n",
       "        text-align: right;\n",
       "    }\n",
       "</style>\n",
       "<table border=\"1\" class=\"dataframe\">\n",
       "  <thead>\n",
       "    <tr style=\"text-align: right;\">\n",
       "      <th></th>\n",
       "      <th>publisher</th>\n",
       "      <th>dagger</th>\n",
       "      <th>author</th>\n",
       "      <th>primary_isbn10</th>\n",
       "      <th>price</th>\n",
       "      <th>primary_isbn13</th>\n",
       "      <th>date</th>\n",
       "      <th>contributor</th>\n",
       "      <th>title</th>\n",
       "      <th>age_group</th>\n",
       "      <th>weeks_on_list</th>\n",
       "    </tr>\n",
       "  </thead>\n",
       "  <tbody>\n",
       "    <tr>\n",
       "      <th>0</th>\n",
       "      <td>Riverhead</td>\n",
       "      <td>0</td>\n",
       "      <td>Paula Hawkins</td>\n",
       "      <td>1594634025</td>\n",
       "      <td>0</td>\n",
       "      <td>9.78159E+12</td>\n",
       "      <td>2/19/17</td>\n",
       "      <td>by Paula Hawkins</td>\n",
       "      <td>THE GIRL ON THE TRAIN</td>\n",
       "      <td>NaN</td>\n",
       "      <td>102</td>\n",
       "    </tr>\n",
       "    <tr>\n",
       "      <th>1</th>\n",
       "      <td>Scribner</td>\n",
       "      <td>0</td>\n",
       "      <td>Anthony Doerr</td>\n",
       "      <td>1501173219</td>\n",
       "      <td>0</td>\n",
       "      <td>9.7815E+12</td>\n",
       "      <td>5/7/17</td>\n",
       "      <td>by Anthony Doerr</td>\n",
       "      <td>ALL THE LIGHT WE CANNOT SEE</td>\n",
       "      <td>NaN</td>\n",
       "      <td>81</td>\n",
       "    </tr>\n",
       "    <tr>\n",
       "      <th>2</th>\n",
       "      <td>Vintage</td>\n",
       "      <td>0</td>\n",
       "      <td>E L James</td>\n",
       "      <td>525431888</td>\n",
       "      <td>0</td>\n",
       "      <td>9.78053E+12</td>\n",
       "      <td>3/5/17</td>\n",
       "      <td>by E. L. James</td>\n",
       "      <td>FIFTY SHADES DARKER</td>\n",
       "      <td>NaN</td>\n",
       "      <td>66</td>\n",
       "    </tr>\n",
       "    <tr>\n",
       "      <th>3</th>\n",
       "      <td>St. Martin's</td>\n",
       "      <td>0</td>\n",
       "      <td>Kristin Hannah</td>\n",
       "      <td>1466850604</td>\n",
       "      <td>0</td>\n",
       "      <td>9.78147E+12</td>\n",
       "      <td>10/29/17</td>\n",
       "      <td>by Kristin Hannah</td>\n",
       "      <td>THE NIGHTINGALE</td>\n",
       "      <td>NaN</td>\n",
       "      <td>63</td>\n",
       "    </tr>\n",
       "    <tr>\n",
       "      <th>4</th>\n",
       "      <td>Penguin Group</td>\n",
       "      <td>0</td>\n",
       "      <td>Kathryn Stockett</td>\n",
       "      <td>1440697663</td>\n",
       "      <td>0</td>\n",
       "      <td>9.78144E+12</td>\n",
       "      <td>4/8/12</td>\n",
       "      <td>by Kathryn Stockett</td>\n",
       "      <td>THE HELP</td>\n",
       "      <td>NaN</td>\n",
       "      <td>58</td>\n",
       "    </tr>\n",
       "  </tbody>\n",
       "</table>\n",
       "</div>"
      ],
      "text/plain": [
       "       publisher  dagger            author primary_isbn10  price  \\\n",
       "0      Riverhead       0     Paula Hawkins     1594634025      0   \n",
       "1       Scribner       0     Anthony Doerr     1501173219      0   \n",
       "2        Vintage       0         E L James      525431888      0   \n",
       "3   St. Martin's       0    Kristin Hannah     1466850604      0   \n",
       "4  Penguin Group       0  Kathryn Stockett     1440697663      0   \n",
       "\n",
       "  primary_isbn13      date          contributor                        title  \\\n",
       "0    9.78159E+12   2/19/17     by Paula Hawkins        THE GIRL ON THE TRAIN   \n",
       "1     9.7815E+12    5/7/17     by Anthony Doerr  ALL THE LIGHT WE CANNOT SEE   \n",
       "2    9.78053E+12    3/5/17       by E. L. James          FIFTY SHADES DARKER   \n",
       "3    9.78147E+12  10/29/17    by Kristin Hannah              THE NIGHTINGALE   \n",
       "4    9.78144E+12    4/8/12  by Kathryn Stockett                     THE HELP   \n",
       "\n",
       "   age_group  weeks_on_list  \n",
       "0        NaN            102  \n",
       "1        NaN             81  \n",
       "2        NaN             66  \n",
       "3        NaN             63  \n",
       "4        NaN             58  "
      ]
     },
     "execution_count": 5,
     "metadata": {},
     "output_type": "execute_result"
    }
   ],
   "source": [
    "df = df.drop(columns=['book_review_link', 'sunday_review_link', 'first_chapter_link'] , axis=1).copy()\n",
    "df.head()"
   ]
  },
  {
   "cell_type": "code",
   "execution_count": 6,
   "metadata": {},
   "outputs": [
    {
     "data": {
      "text/plain": [
       "0"
      ]
     },
     "execution_count": 6,
     "metadata": {},
     "output_type": "execute_result"
    }
   ],
   "source": [
    "df['dagger'].isna().sum()"
   ]
  },
  {
   "cell_type": "code",
   "execution_count": 7,
   "metadata": {},
   "outputs": [
    {
     "data": {
      "text/plain": [
       "1"
      ]
     },
     "execution_count": 7,
     "metadata": {},
     "output_type": "execute_result"
    }
   ],
   "source": [
    "df['dagger'].nunique()"
   ]
  },
  {
   "cell_type": "code",
   "execution_count": 8,
   "metadata": {},
   "outputs": [
    {
     "data": {
      "text/plain": [
       "2249"
      ]
     },
     "execution_count": 8,
     "metadata": {},
     "output_type": "execute_result"
    }
   ],
   "source": [
    "df['age_group'].isna().sum()"
   ]
  },
  {
   "cell_type": "code",
   "execution_count": 9,
   "metadata": {},
   "outputs": [
    {
     "data": {
      "text/plain": [
       "0"
      ]
     },
     "execution_count": 9,
     "metadata": {},
     "output_type": "execute_result"
    }
   ],
   "source": [
    "df['age_group'].nunique()"
   ]
  },
  {
   "cell_type": "code",
   "execution_count": 10,
   "metadata": {},
   "outputs": [
    {
     "data": {
      "text/plain": [
       "0"
      ]
     },
     "execution_count": 10,
     "metadata": {},
     "output_type": "execute_result"
    }
   ],
   "source": [
    "df['price'].isna().sum()"
   ]
  },
  {
   "cell_type": "code",
   "execution_count": 11,
   "metadata": {},
   "outputs": [
    {
     "data": {
      "text/plain": [
       "1"
      ]
     },
     "execution_count": 11,
     "metadata": {},
     "output_type": "execute_result"
    }
   ],
   "source": [
    "df['price'].nunique()"
   ]
  },
  {
   "cell_type": "markdown",
   "metadata": {},
   "source": [
    "* 'dagger' column only has 1 value which is '0', so there is no information for 'dagger'\n",
    "\n",
    "* All of the rows in 'age_group' columns are empty or they are all null values as there seems to be no information about the age group. Therefore, it is better to drop the entire column\n",
    "\n",
    "* Simmilar to 'dagger', there is no information on price for each book as there is only 1 value '0' for every row in the 'price' column \n",
    "\n",
    "==> drop all three columns"
   ]
  },
  {
   "cell_type": "code",
   "execution_count": 12,
   "metadata": {},
   "outputs": [
    {
     "data": {
      "text/html": [
       "<div>\n",
       "<style scoped>\n",
       "    .dataframe tbody tr th:only-of-type {\n",
       "        vertical-align: middle;\n",
       "    }\n",
       "\n",
       "    .dataframe tbody tr th {\n",
       "        vertical-align: top;\n",
       "    }\n",
       "\n",
       "    .dataframe thead th {\n",
       "        text-align: right;\n",
       "    }\n",
       "</style>\n",
       "<table border=\"1\" class=\"dataframe\">\n",
       "  <thead>\n",
       "    <tr style=\"text-align: right;\">\n",
       "      <th></th>\n",
       "      <th>publisher</th>\n",
       "      <th>author</th>\n",
       "      <th>primary_isbn10</th>\n",
       "      <th>primary_isbn13</th>\n",
       "      <th>date</th>\n",
       "      <th>contributor</th>\n",
       "      <th>title</th>\n",
       "      <th>weeks_on_list</th>\n",
       "    </tr>\n",
       "  </thead>\n",
       "  <tbody>\n",
       "    <tr>\n",
       "      <th>0</th>\n",
       "      <td>Riverhead</td>\n",
       "      <td>Paula Hawkins</td>\n",
       "      <td>1594634025</td>\n",
       "      <td>9.78159E+12</td>\n",
       "      <td>2/19/17</td>\n",
       "      <td>by Paula Hawkins</td>\n",
       "      <td>THE GIRL ON THE TRAIN</td>\n",
       "      <td>102</td>\n",
       "    </tr>\n",
       "    <tr>\n",
       "      <th>1</th>\n",
       "      <td>Scribner</td>\n",
       "      <td>Anthony Doerr</td>\n",
       "      <td>1501173219</td>\n",
       "      <td>9.7815E+12</td>\n",
       "      <td>5/7/17</td>\n",
       "      <td>by Anthony Doerr</td>\n",
       "      <td>ALL THE LIGHT WE CANNOT SEE</td>\n",
       "      <td>81</td>\n",
       "    </tr>\n",
       "    <tr>\n",
       "      <th>2</th>\n",
       "      <td>Vintage</td>\n",
       "      <td>E L James</td>\n",
       "      <td>525431888</td>\n",
       "      <td>9.78053E+12</td>\n",
       "      <td>3/5/17</td>\n",
       "      <td>by E. L. James</td>\n",
       "      <td>FIFTY SHADES DARKER</td>\n",
       "      <td>66</td>\n",
       "    </tr>\n",
       "    <tr>\n",
       "      <th>3</th>\n",
       "      <td>St. Martin's</td>\n",
       "      <td>Kristin Hannah</td>\n",
       "      <td>1466850604</td>\n",
       "      <td>9.78147E+12</td>\n",
       "      <td>10/29/17</td>\n",
       "      <td>by Kristin Hannah</td>\n",
       "      <td>THE NIGHTINGALE</td>\n",
       "      <td>63</td>\n",
       "    </tr>\n",
       "    <tr>\n",
       "      <th>4</th>\n",
       "      <td>Penguin Group</td>\n",
       "      <td>Kathryn Stockett</td>\n",
       "      <td>1440697663</td>\n",
       "      <td>9.78144E+12</td>\n",
       "      <td>4/8/12</td>\n",
       "      <td>by Kathryn Stockett</td>\n",
       "      <td>THE HELP</td>\n",
       "      <td>58</td>\n",
       "    </tr>\n",
       "  </tbody>\n",
       "</table>\n",
       "</div>"
      ],
      "text/plain": [
       "       publisher            author primary_isbn10 primary_isbn13      date  \\\n",
       "0      Riverhead     Paula Hawkins     1594634025    9.78159E+12   2/19/17   \n",
       "1       Scribner     Anthony Doerr     1501173219     9.7815E+12    5/7/17   \n",
       "2        Vintage         E L James      525431888    9.78053E+12    3/5/17   \n",
       "3   St. Martin's    Kristin Hannah     1466850604    9.78147E+12  10/29/17   \n",
       "4  Penguin Group  Kathryn Stockett     1440697663    9.78144E+12    4/8/12   \n",
       "\n",
       "           contributor                        title  weeks_on_list  \n",
       "0     by Paula Hawkins        THE GIRL ON THE TRAIN            102  \n",
       "1     by Anthony Doerr  ALL THE LIGHT WE CANNOT SEE             81  \n",
       "2       by E. L. James          FIFTY SHADES DARKER             66  \n",
       "3    by Kristin Hannah              THE NIGHTINGALE             63  \n",
       "4  by Kathryn Stockett                     THE HELP             58  "
      ]
     },
     "execution_count": 12,
     "metadata": {},
     "output_type": "execute_result"
    }
   ],
   "source": [
    "df = df.drop(columns=['dagger', 'age_group', 'price'], axis=1).copy()\n",
    "df.head()"
   ]
  },
  {
   "cell_type": "code",
   "execution_count": 13,
   "metadata": {},
   "outputs": [
    {
     "data": {
      "text/plain": [
       "publisher           0\n",
       "author              0\n",
       "primary_isbn10    176\n",
       "primary_isbn13      1\n",
       "date                0\n",
       "contributor         0\n",
       "title               0\n",
       "weeks_on_list       0\n",
       "dtype: int64"
      ]
     },
     "execution_count": 13,
     "metadata": {},
     "output_type": "execute_result"
    }
   ],
   "source": [
    "df.isna().sum()"
   ]
  },
  {
   "cell_type": "markdown",
   "metadata": {},
   "source": [
    "ISBN is a unique ID for each book. Therefore, we cannot replace or fill it with the mean or median of all other values in the same columns. These two columns will be kept like that for now"
   ]
  },
  {
   "cell_type": "markdown",
   "metadata": {},
   "source": [
    "# Reformat 'date' column"
   ]
  },
  {
   "cell_type": "code",
   "execution_count": null,
   "metadata": {},
   "outputs": [],
   "source": []
  },
  {
   "cell_type": "code",
   "execution_count": null,
   "metadata": {},
   "outputs": [],
   "source": []
  },
  {
   "cell_type": "code",
   "execution_count": null,
   "metadata": {},
   "outputs": [],
   "source": []
  },
  {
   "cell_type": "code",
   "execution_count": null,
   "metadata": {},
   "outputs": [],
   "source": []
  },
  {
   "cell_type": "code",
   "execution_count": null,
   "metadata": {},
   "outputs": [],
   "source": []
  },
  {
   "cell_type": "markdown",
   "metadata": {},
   "source": [
    "# Save cleaned dataset into a new csv file"
   ]
  },
  {
   "cell_type": "code",
   "execution_count": 14,
   "metadata": {},
   "outputs": [],
   "source": [
    "#df.to_csv('cleaned_books.csv')"
   ]
  },
  {
   "cell_type": "code",
   "execution_count": null,
   "metadata": {},
   "outputs": [],
   "source": []
  }
 ],
 "metadata": {
  "kernelspec": {
   "display_name": "Python 3",
   "language": "python",
   "name": "python3"
  },
  "language_info": {
   "codemirror_mode": {
    "name": "ipython",
    "version": 3
   },
   "file_extension": ".py",
   "mimetype": "text/x-python",
   "name": "python",
   "nbconvert_exporter": "python",
   "pygments_lexer": "ipython3",
   "version": "3.7.6"
  }
 },
 "nbformat": 4,
 "nbformat_minor": 4
}
