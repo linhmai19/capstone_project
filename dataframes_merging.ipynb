{
 "cells": [
  {
   "cell_type": "code",
   "execution_count": 1,
   "metadata": {},
   "outputs": [],
   "source": [
    "import pandas as pd\n",
    "import numpy as np\n",
    "import seaborn as sns\n",
    "sns.set(style=\"darkgrid\")\n",
    "import matplotlib.pyplot as plt\n",
    "%matplotlib inline\n",
    "plt.style.use('seaborn')"
   ]
  },
  {
   "cell_type": "code",
   "execution_count": 2,
   "metadata": {},
   "outputs": [
    {
     "data": {
      "text/html": [
       "<div>\n",
       "<style scoped>\n",
       "    .dataframe tbody tr th:only-of-type {\n",
       "        vertical-align: middle;\n",
       "    }\n",
       "\n",
       "    .dataframe tbody tr th {\n",
       "        vertical-align: top;\n",
       "    }\n",
       "\n",
       "    .dataframe thead th {\n",
       "        text-align: right;\n",
       "    }\n",
       "</style>\n",
       "<table border=\"1\" class=\"dataframe\">\n",
       "  <thead>\n",
       "    <tr style=\"text-align: right;\">\n",
       "      <th></th>\n",
       "      <th>publisher</th>\n",
       "      <th>author</th>\n",
       "      <th>isbn</th>\n",
       "      <th>date</th>\n",
       "      <th>title</th>\n",
       "      <th>weeks_on_list</th>\n",
       "      <th>no_of_words_title</th>\n",
       "    </tr>\n",
       "  </thead>\n",
       "  <tbody>\n",
       "    <tr>\n",
       "      <th>0</th>\n",
       "      <td>Riverhead</td>\n",
       "      <td>Paula Hawkins</td>\n",
       "      <td>1594634025</td>\n",
       "      <td>2017-02-19</td>\n",
       "      <td>THE GIRL ON THE TRAIN</td>\n",
       "      <td>102</td>\n",
       "      <td>5</td>\n",
       "    </tr>\n",
       "    <tr>\n",
       "      <th>1</th>\n",
       "      <td>Scribner</td>\n",
       "      <td>Anthony Doerr</td>\n",
       "      <td>1501173219</td>\n",
       "      <td>2017-05-07</td>\n",
       "      <td>ALL THE LIGHT WE CANNOT SEE</td>\n",
       "      <td>81</td>\n",
       "      <td>6</td>\n",
       "    </tr>\n",
       "    <tr>\n",
       "      <th>2</th>\n",
       "      <td>Vintage</td>\n",
       "      <td>E L James</td>\n",
       "      <td>0525431888</td>\n",
       "      <td>2017-03-05</td>\n",
       "      <td>FIFTY SHADES DARKER</td>\n",
       "      <td>66</td>\n",
       "      <td>3</td>\n",
       "    </tr>\n",
       "    <tr>\n",
       "      <th>3</th>\n",
       "      <td>St. Martin's</td>\n",
       "      <td>Kristin Hannah</td>\n",
       "      <td>1466850604</td>\n",
       "      <td>2017-10-29</td>\n",
       "      <td>THE NIGHTINGALE</td>\n",
       "      <td>63</td>\n",
       "      <td>2</td>\n",
       "    </tr>\n",
       "    <tr>\n",
       "      <th>4</th>\n",
       "      <td>Penguin Group</td>\n",
       "      <td>Kathryn Stockett</td>\n",
       "      <td>1440697663</td>\n",
       "      <td>2012-04-08</td>\n",
       "      <td>THE HELP</td>\n",
       "      <td>58</td>\n",
       "      <td>2</td>\n",
       "    </tr>\n",
       "  </tbody>\n",
       "</table>\n",
       "</div>"
      ],
      "text/plain": [
       "       publisher            author        isbn        date  \\\n",
       "0      Riverhead     Paula Hawkins  1594634025  2017-02-19   \n",
       "1       Scribner     Anthony Doerr  1501173219  2017-05-07   \n",
       "2        Vintage         E L James  0525431888  2017-03-05   \n",
       "3   St. Martin's    Kristin Hannah  1466850604  2017-10-29   \n",
       "4  Penguin Group  Kathryn Stockett  1440697663  2012-04-08   \n",
       "\n",
       "                         title  weeks_on_list  no_of_words_title  \n",
       "0        THE GIRL ON THE TRAIN            102                  5  \n",
       "1  ALL THE LIGHT WE CANNOT SEE             81                  6  \n",
       "2          FIFTY SHADES DARKER             66                  3  \n",
       "3              THE NIGHTINGALE             63                  2  \n",
       "4                     THE HELP             58                  2  "
      ]
     },
     "execution_count": 2,
     "metadata": {},
     "output_type": "execute_result"
    }
   ],
   "source": [
    "df = pd.read_csv('cleaned_books.csv')\n",
    "df = df.drop('Unnamed: 0', 1)\n",
    "df.head()"
   ]
  },
  {
   "cell_type": "code",
   "execution_count": 3,
   "metadata": {},
   "outputs": [
    {
     "name": "stdout",
     "output_type": "stream",
     "text": [
      "<class 'pandas.core.frame.DataFrame'>\n",
      "RangeIndex: 2248 entries, 0 to 2247\n",
      "Data columns (total 7 columns):\n",
      " #   Column             Non-Null Count  Dtype \n",
      "---  ------             --------------  ----- \n",
      " 0   publisher          2248 non-null   object\n",
      " 1   author             2248 non-null   object\n",
      " 2   isbn               2248 non-null   object\n",
      " 3   date               2248 non-null   object\n",
      " 4   title              2248 non-null   object\n",
      " 5   weeks_on_list      2248 non-null   int64 \n",
      " 6   no_of_words_title  2248 non-null   int64 \n",
      "dtypes: int64(2), object(5)\n",
      "memory usage: 123.1+ KB\n"
     ]
    }
   ],
   "source": [
    "df.info()"
   ]
  },
  {
   "cell_type": "code",
   "execution_count": 4,
   "metadata": {},
   "outputs": [
    {
     "data": {
      "text/html": [
       "<div>\n",
       "<style scoped>\n",
       "    .dataframe tbody tr th:only-of-type {\n",
       "        vertical-align: middle;\n",
       "    }\n",
       "\n",
       "    .dataframe tbody tr th {\n",
       "        vertical-align: top;\n",
       "    }\n",
       "\n",
       "    .dataframe thead th {\n",
       "        text-align: right;\n",
       "    }\n",
       "</style>\n",
       "<table border=\"1\" class=\"dataframe\">\n",
       "  <thead>\n",
       "    <tr style=\"text-align: right;\">\n",
       "      <th></th>\n",
       "      <th>isbn</th>\n",
       "      <th>ratings_count</th>\n",
       "      <th>reviews_count</th>\n",
       "      <th>text_reviews_count</th>\n",
       "      <th>work_ratings_count</th>\n",
       "      <th>work_reviews_count</th>\n",
       "      <th>work_text_reviews_count</th>\n",
       "      <th>average_rating</th>\n",
       "    </tr>\n",
       "  </thead>\n",
       "  <tbody>\n",
       "    <tr>\n",
       "      <th>0</th>\n",
       "      <td>1594634025</td>\n",
       "      <td>4832</td>\n",
       "      <td>8435</td>\n",
       "      <td>417</td>\n",
       "      <td>2082071</td>\n",
       "      <td>3313269</td>\n",
       "      <td>109917</td>\n",
       "      <td>3.92</td>\n",
       "    </tr>\n",
       "    <tr>\n",
       "      <th>1</th>\n",
       "      <td>1501173219</td>\n",
       "      <td>4375</td>\n",
       "      <td>10744</td>\n",
       "      <td>565</td>\n",
       "      <td>1005586</td>\n",
       "      <td>2142471</td>\n",
       "      <td>75056</td>\n",
       "      <td>4.33</td>\n",
       "    </tr>\n",
       "    <tr>\n",
       "      <th>2</th>\n",
       "      <td>0525431888</td>\n",
       "      <td>71</td>\n",
       "      <td>155</td>\n",
       "      <td>7</td>\n",
       "      <td>737540</td>\n",
       "      <td>1064380</td>\n",
       "      <td>29077</td>\n",
       "      <td>3.84</td>\n",
       "    </tr>\n",
       "    <tr>\n",
       "      <th>3</th>\n",
       "      <td>1466850604</td>\n",
       "      <td>631</td>\n",
       "      <td>1480</td>\n",
       "      <td>150</td>\n",
       "      <td>680040</td>\n",
       "      <td>1319418</td>\n",
       "      <td>63407</td>\n",
       "      <td>4.58</td>\n",
       "    </tr>\n",
       "    <tr>\n",
       "      <th>4</th>\n",
       "      <td>1440697663</td>\n",
       "      <td>1491</td>\n",
       "      <td>1922</td>\n",
       "      <td>330</td>\n",
       "      <td>2141308</td>\n",
       "      <td>3031266</td>\n",
       "      <td>84485</td>\n",
       "      <td>4.47</td>\n",
       "    </tr>\n",
       "  </tbody>\n",
       "</table>\n",
       "</div>"
      ],
      "text/plain": [
       "         isbn  ratings_count  reviews_count  text_reviews_count  \\\n",
       "0  1594634025           4832           8435                 417   \n",
       "1  1501173219           4375          10744                 565   \n",
       "2  0525431888             71            155                   7   \n",
       "3  1466850604            631           1480                 150   \n",
       "4  1440697663           1491           1922                 330   \n",
       "\n",
       "   work_ratings_count  work_reviews_count  work_text_reviews_count  \\\n",
       "0             2082071             3313269                   109917   \n",
       "1             1005586             2142471                    75056   \n",
       "2              737540             1064380                    29077   \n",
       "3              680040             1319418                    63407   \n",
       "4             2141308             3031266                    84485   \n",
       "\n",
       "   average_rating  \n",
       "0            3.92  \n",
       "1            4.33  \n",
       "2            3.84  \n",
       "3            4.58  \n",
       "4            4.47  "
      ]
     },
     "execution_count": 4,
     "metadata": {},
     "output_type": "execute_result"
    }
   ],
   "source": [
    "review = pd.read_csv('review_stats.csv')\n",
    "review = review.drop('Unnamed: 0', 1)\n",
    "review.head()"
   ]
  },
  {
   "cell_type": "code",
   "execution_count": 5,
   "metadata": {},
   "outputs": [
    {
     "name": "stdout",
     "output_type": "stream",
     "text": [
      "<class 'pandas.core.frame.DataFrame'>\n",
      "RangeIndex: 1281 entries, 0 to 1280\n",
      "Data columns (total 8 columns):\n",
      " #   Column                   Non-Null Count  Dtype  \n",
      "---  ------                   --------------  -----  \n",
      " 0   isbn                     1281 non-null   object \n",
      " 1   ratings_count            1281 non-null   int64  \n",
      " 2   reviews_count            1281 non-null   int64  \n",
      " 3   text_reviews_count       1281 non-null   int64  \n",
      " 4   work_ratings_count       1281 non-null   int64  \n",
      " 5   work_reviews_count       1281 non-null   int64  \n",
      " 6   work_text_reviews_count  1281 non-null   int64  \n",
      " 7   average_rating           1281 non-null   float64\n",
      "dtypes: float64(1), int64(6), object(1)\n",
      "memory usage: 80.2+ KB\n"
     ]
    }
   ],
   "source": [
    "review.info()"
   ]
  },
  {
   "cell_type": "markdown",
   "metadata": {},
   "source": [
    "# Merging two dataframes"
   ]
  },
  {
   "cell_type": "markdown",
   "metadata": {},
   "source": [
    "Merging two dataframes df and review via RIGHT JOIN"
   ]
  },
  {
   "cell_type": "code",
   "execution_count": 6,
   "metadata": {},
   "outputs": [
    {
     "data": {
      "text/html": [
       "<div>\n",
       "<style scoped>\n",
       "    .dataframe tbody tr th:only-of-type {\n",
       "        vertical-align: middle;\n",
       "    }\n",
       "\n",
       "    .dataframe tbody tr th {\n",
       "        vertical-align: top;\n",
       "    }\n",
       "\n",
       "    .dataframe thead th {\n",
       "        text-align: right;\n",
       "    }\n",
       "</style>\n",
       "<table border=\"1\" class=\"dataframe\">\n",
       "  <thead>\n",
       "    <tr style=\"text-align: right;\">\n",
       "      <th></th>\n",
       "      <th>publisher</th>\n",
       "      <th>author</th>\n",
       "      <th>isbn</th>\n",
       "      <th>date</th>\n",
       "      <th>title</th>\n",
       "      <th>weeks_on_list</th>\n",
       "      <th>no_of_words_title</th>\n",
       "      <th>ratings_count</th>\n",
       "      <th>reviews_count</th>\n",
       "      <th>text_reviews_count</th>\n",
       "      <th>work_ratings_count</th>\n",
       "      <th>work_reviews_count</th>\n",
       "      <th>work_text_reviews_count</th>\n",
       "      <th>average_rating</th>\n",
       "    </tr>\n",
       "  </thead>\n",
       "  <tbody>\n",
       "    <tr>\n",
       "      <th>0</th>\n",
       "      <td>Riverhead</td>\n",
       "      <td>Paula Hawkins</td>\n",
       "      <td>1594634025</td>\n",
       "      <td>2017-02-19</td>\n",
       "      <td>THE GIRL ON THE TRAIN</td>\n",
       "      <td>102</td>\n",
       "      <td>5</td>\n",
       "      <td>4832</td>\n",
       "      <td>8435</td>\n",
       "      <td>417</td>\n",
       "      <td>2082071</td>\n",
       "      <td>3313269</td>\n",
       "      <td>109917</td>\n",
       "      <td>3.92</td>\n",
       "    </tr>\n",
       "    <tr>\n",
       "      <th>1</th>\n",
       "      <td>Scribner</td>\n",
       "      <td>Anthony Doerr</td>\n",
       "      <td>1501173219</td>\n",
       "      <td>2017-05-07</td>\n",
       "      <td>ALL THE LIGHT WE CANNOT SEE</td>\n",
       "      <td>81</td>\n",
       "      <td>6</td>\n",
       "      <td>4375</td>\n",
       "      <td>10744</td>\n",
       "      <td>565</td>\n",
       "      <td>1005586</td>\n",
       "      <td>2142471</td>\n",
       "      <td>75056</td>\n",
       "      <td>4.33</td>\n",
       "    </tr>\n",
       "    <tr>\n",
       "      <th>2</th>\n",
       "      <td>Vintage</td>\n",
       "      <td>E L James</td>\n",
       "      <td>0525431888</td>\n",
       "      <td>2017-03-05</td>\n",
       "      <td>FIFTY SHADES DARKER</td>\n",
       "      <td>66</td>\n",
       "      <td>3</td>\n",
       "      <td>71</td>\n",
       "      <td>155</td>\n",
       "      <td>7</td>\n",
       "      <td>737540</td>\n",
       "      <td>1064380</td>\n",
       "      <td>29077</td>\n",
       "      <td>3.84</td>\n",
       "    </tr>\n",
       "    <tr>\n",
       "      <th>3</th>\n",
       "      <td>St. Martin's</td>\n",
       "      <td>Kristin Hannah</td>\n",
       "      <td>1466850604</td>\n",
       "      <td>2017-10-29</td>\n",
       "      <td>THE NIGHTINGALE</td>\n",
       "      <td>63</td>\n",
       "      <td>2</td>\n",
       "      <td>631</td>\n",
       "      <td>1480</td>\n",
       "      <td>150</td>\n",
       "      <td>680040</td>\n",
       "      <td>1319418</td>\n",
       "      <td>63407</td>\n",
       "      <td>4.58</td>\n",
       "    </tr>\n",
       "    <tr>\n",
       "      <th>4</th>\n",
       "      <td>Penguin Group</td>\n",
       "      <td>Kathryn Stockett</td>\n",
       "      <td>1440697663</td>\n",
       "      <td>2012-04-08</td>\n",
       "      <td>THE HELP</td>\n",
       "      <td>58</td>\n",
       "      <td>2</td>\n",
       "      <td>1491</td>\n",
       "      <td>1922</td>\n",
       "      <td>330</td>\n",
       "      <td>2141308</td>\n",
       "      <td>3031266</td>\n",
       "      <td>84485</td>\n",
       "      <td>4.47</td>\n",
       "    </tr>\n",
       "  </tbody>\n",
       "</table>\n",
       "</div>"
      ],
      "text/plain": [
       "       publisher            author        isbn        date  \\\n",
       "0      Riverhead     Paula Hawkins  1594634025  2017-02-19   \n",
       "1       Scribner     Anthony Doerr  1501173219  2017-05-07   \n",
       "2        Vintage         E L James  0525431888  2017-03-05   \n",
       "3   St. Martin's    Kristin Hannah  1466850604  2017-10-29   \n",
       "4  Penguin Group  Kathryn Stockett  1440697663  2012-04-08   \n",
       "\n",
       "                         title  weeks_on_list  no_of_words_title  \\\n",
       "0        THE GIRL ON THE TRAIN            102                  5   \n",
       "1  ALL THE LIGHT WE CANNOT SEE             81                  6   \n",
       "2          FIFTY SHADES DARKER             66                  3   \n",
       "3              THE NIGHTINGALE             63                  2   \n",
       "4                     THE HELP             58                  2   \n",
       "\n",
       "   ratings_count  reviews_count  text_reviews_count  work_ratings_count  \\\n",
       "0           4832           8435                 417             2082071   \n",
       "1           4375          10744                 565             1005586   \n",
       "2             71            155                   7              737540   \n",
       "3            631           1480                 150              680040   \n",
       "4           1491           1922                 330             2141308   \n",
       "\n",
       "   work_reviews_count  work_text_reviews_count  average_rating  \n",
       "0             3313269                   109917            3.92  \n",
       "1             2142471                    75056            4.33  \n",
       "2             1064380                    29077            3.84  \n",
       "3             1319418                    63407            4.58  \n",
       "4             3031266                    84485            4.47  "
      ]
     },
     "execution_count": 6,
     "metadata": {},
     "output_type": "execute_result"
    }
   ],
   "source": [
    "data = df.merge(review, on='isbn', how='inner')\n",
    "data.head()"
   ]
  },
  {
   "cell_type": "code",
   "execution_count": 7,
   "metadata": {},
   "outputs": [
    {
     "name": "stdout",
     "output_type": "stream",
     "text": [
      "<class 'pandas.core.frame.DataFrame'>\n",
      "Int64Index: 1287 entries, 0 to 1286\n",
      "Data columns (total 14 columns):\n",
      " #   Column                   Non-Null Count  Dtype  \n",
      "---  ------                   --------------  -----  \n",
      " 0   publisher                1287 non-null   object \n",
      " 1   author                   1287 non-null   object \n",
      " 2   isbn                     1287 non-null   object \n",
      " 3   date                     1287 non-null   object \n",
      " 4   title                    1287 non-null   object \n",
      " 5   weeks_on_list            1287 non-null   int64  \n",
      " 6   no_of_words_title        1287 non-null   int64  \n",
      " 7   ratings_count            1287 non-null   int64  \n",
      " 8   reviews_count            1287 non-null   int64  \n",
      " 9   text_reviews_count       1287 non-null   int64  \n",
      " 10  work_ratings_count       1287 non-null   int64  \n",
      " 11  work_reviews_count       1287 non-null   int64  \n",
      " 12  work_text_reviews_count  1287 non-null   int64  \n",
      " 13  average_rating           1287 non-null   float64\n",
      "dtypes: float64(1), int64(8), object(5)\n",
      "memory usage: 150.8+ KB\n"
     ]
    }
   ],
   "source": [
    "data.info()"
   ]
  },
  {
   "cell_type": "markdown",
   "metadata": {},
   "source": [
    "##### Comment:\n",
    "The new merged dataframe has more data points than in 'review' dataframe. Therefore, there must be some duplicates and we need to eliminate them"
   ]
  },
  {
   "cell_type": "code",
   "execution_count": 8,
   "metadata": {},
   "outputs": [
    {
     "data": {
      "text/plain": [
       "6"
      ]
     },
     "execution_count": 8,
     "metadata": {},
     "output_type": "execute_result"
    }
   ],
   "source": [
    "# Check for duplicates based on ISBNs\n",
    "data['isbn'].duplicated().sum()"
   ]
  },
  {
   "cell_type": "code",
   "execution_count": 9,
   "metadata": {},
   "outputs": [
    {
     "data": {
      "text/html": [
       "<div>\n",
       "<style scoped>\n",
       "    .dataframe tbody tr th:only-of-type {\n",
       "        vertical-align: middle;\n",
       "    }\n",
       "\n",
       "    .dataframe tbody tr th {\n",
       "        vertical-align: top;\n",
       "    }\n",
       "\n",
       "    .dataframe thead th {\n",
       "        text-align: right;\n",
       "    }\n",
       "</style>\n",
       "<table border=\"1\" class=\"dataframe\">\n",
       "  <thead>\n",
       "    <tr style=\"text-align: right;\">\n",
       "      <th></th>\n",
       "      <th>publisher</th>\n",
       "      <th>author</th>\n",
       "      <th>isbn</th>\n",
       "      <th>date</th>\n",
       "      <th>title</th>\n",
       "      <th>weeks_on_list</th>\n",
       "      <th>no_of_words_title</th>\n",
       "      <th>ratings_count</th>\n",
       "      <th>reviews_count</th>\n",
       "      <th>text_reviews_count</th>\n",
       "      <th>work_ratings_count</th>\n",
       "      <th>work_reviews_count</th>\n",
       "      <th>work_text_reviews_count</th>\n",
       "      <th>average_rating</th>\n",
       "    </tr>\n",
       "  </thead>\n",
       "  <tbody>\n",
       "    <tr>\n",
       "      <th>708</th>\n",
       "      <td>Penguin Group</td>\n",
       "      <td>Junot Diaz</td>\n",
       "      <td>1594487367</td>\n",
       "      <td>2012-09-30</td>\n",
       "      <td>THIS IS HOW YOU LOSE HER</td>\n",
       "      <td>1</td>\n",
       "      <td>6</td>\n",
       "      <td>81070</td>\n",
       "      <td>184021</td>\n",
       "      <td>6826</td>\n",
       "      <td>89177</td>\n",
       "      <td>197155</td>\n",
       "      <td>7548</td>\n",
       "      <td>3.75</td>\n",
       "    </tr>\n",
       "    <tr>\n",
       "      <th>712</th>\n",
       "      <td>Simon &amp; Schuster</td>\n",
       "      <td>Philippa Gregory</td>\n",
       "      <td>1451626142</td>\n",
       "      <td>2012-09-02</td>\n",
       "      <td>THE KINGMAKER'S DAUGHTER</td>\n",
       "      <td>1</td>\n",
       "      <td>3</td>\n",
       "      <td>36</td>\n",
       "      <td>53</td>\n",
       "      <td>7</td>\n",
       "      <td>38213</td>\n",
       "      <td>86153</td>\n",
       "      <td>2849</td>\n",
       "      <td>3.97</td>\n",
       "    </tr>\n",
       "    <tr>\n",
       "      <th>715</th>\n",
       "      <td>Kensington Publishing</td>\n",
       "      <td>Lisa Jackson</td>\n",
       "      <td>0758279590</td>\n",
       "      <td>2012-08-26</td>\n",
       "      <td>YOU DON'T WANT TO KNOW</td>\n",
       "      <td>1</td>\n",
       "      <td>5</td>\n",
       "      <td>13</td>\n",
       "      <td>24</td>\n",
       "      <td>5</td>\n",
       "      <td>7699</td>\n",
       "      <td>18878</td>\n",
       "      <td>908</td>\n",
       "      <td>3.79</td>\n",
       "    </tr>\n",
       "    <tr>\n",
       "      <th>735</th>\n",
       "      <td>HarperCollins Publishers</td>\n",
       "      <td>Christopher Moore</td>\n",
       "      <td>0061779741</td>\n",
       "      <td>2012-04-22</td>\n",
       "      <td>SACRE BLEU</td>\n",
       "      <td>1</td>\n",
       "      <td>2</td>\n",
       "      <td>24173</td>\n",
       "      <td>49976</td>\n",
       "      <td>2949</td>\n",
       "      <td>30011</td>\n",
       "      <td>60835</td>\n",
       "      <td>3599</td>\n",
       "      <td>3.79</td>\n",
       "    </tr>\n",
       "    <tr>\n",
       "      <th>738</th>\n",
       "      <td>HarperCollins Publishers</td>\n",
       "      <td>Adriana Trigiani</td>\n",
       "      <td>0062098063</td>\n",
       "      <td>2012-04-22</td>\n",
       "      <td>THE SHOEMAKER'S WIFE</td>\n",
       "      <td>1</td>\n",
       "      <td>3</td>\n",
       "      <td>74</td>\n",
       "      <td>131</td>\n",
       "      <td>28</td>\n",
       "      <td>75077</td>\n",
       "      <td>136629</td>\n",
       "      <td>8296</td>\n",
       "      <td>3.99</td>\n",
       "    </tr>\n",
       "    <tr>\n",
       "      <th>1176</th>\n",
       "      <td>Knopf Doubleday Publishing</td>\n",
       "      <td>Stieg Larsson</td>\n",
       "      <td>0307593673</td>\n",
       "      <td>2012-05-20</td>\n",
       "      <td>THE GIRL WHO KICKED THE HORNET'S NEST</td>\n",
       "      <td>0</td>\n",
       "      <td>7</td>\n",
       "      <td>4544</td>\n",
       "      <td>5893</td>\n",
       "      <td>626</td>\n",
       "      <td>640541</td>\n",
       "      <td>961876</td>\n",
       "      <td>28953</td>\n",
       "      <td>4.22</td>\n",
       "    </tr>\n",
       "  </tbody>\n",
       "</table>\n",
       "</div>"
      ],
      "text/plain": [
       "                       publisher             author        isbn        date  \\\n",
       "708                Penguin Group         Junot Diaz  1594487367  2012-09-30   \n",
       "712             Simon & Schuster   Philippa Gregory  1451626142  2012-09-02   \n",
       "715        Kensington Publishing       Lisa Jackson  0758279590  2012-08-26   \n",
       "735     HarperCollins Publishers  Christopher Moore  0061779741  2012-04-22   \n",
       "738     HarperCollins Publishers   Adriana Trigiani  0062098063  2012-04-22   \n",
       "1176  Knopf Doubleday Publishing      Stieg Larsson  0307593673  2012-05-20   \n",
       "\n",
       "                                      title  weeks_on_list  no_of_words_title  \\\n",
       "708                THIS IS HOW YOU LOSE HER              1                  6   \n",
       "712                THE KINGMAKER'S DAUGHTER              1                  3   \n",
       "715                  YOU DON'T WANT TO KNOW              1                  5   \n",
       "735                              SACRE BLEU              1                  2   \n",
       "738                    THE SHOEMAKER'S WIFE              1                  3   \n",
       "1176  THE GIRL WHO KICKED THE HORNET'S NEST              0                  7   \n",
       "\n",
       "      ratings_count  reviews_count  text_reviews_count  work_ratings_count  \\\n",
       "708           81070         184021                6826               89177   \n",
       "712              36             53                   7               38213   \n",
       "715              13             24                   5                7699   \n",
       "735           24173          49976                2949               30011   \n",
       "738              74            131                  28               75077   \n",
       "1176           4544           5893                 626              640541   \n",
       "\n",
       "      work_reviews_count  work_text_reviews_count  average_rating  \n",
       "708               197155                     7548            3.75  \n",
       "712                86153                     2849            3.97  \n",
       "715                18878                      908            3.79  \n",
       "735                60835                     3599            3.79  \n",
       "738               136629                     8296            3.99  \n",
       "1176              961876                    28953            4.22  "
      ]
     },
     "execution_count": 9,
     "metadata": {},
     "output_type": "execute_result"
    }
   ],
   "source": [
    "# Review these duplicates\n",
    "data[data.duplicated(['isbn'])]"
   ]
  },
  {
   "cell_type": "code",
   "execution_count": 10,
   "metadata": {},
   "outputs": [],
   "source": [
    "# Drop these duplicates (with the same ISBNs) from the merged dataframe\n",
    "data.drop_duplicates(subset ='isbn', inplace = True) "
   ]
  },
  {
   "cell_type": "code",
   "execution_count": 11,
   "metadata": {},
   "outputs": [
    {
     "name": "stdout",
     "output_type": "stream",
     "text": [
      "<class 'pandas.core.frame.DataFrame'>\n",
      "Int64Index: 1281 entries, 0 to 1286\n",
      "Data columns (total 14 columns):\n",
      " #   Column                   Non-Null Count  Dtype  \n",
      "---  ------                   --------------  -----  \n",
      " 0   publisher                1281 non-null   object \n",
      " 1   author                   1281 non-null   object \n",
      " 2   isbn                     1281 non-null   object \n",
      " 3   date                     1281 non-null   object \n",
      " 4   title                    1281 non-null   object \n",
      " 5   weeks_on_list            1281 non-null   int64  \n",
      " 6   no_of_words_title        1281 non-null   int64  \n",
      " 7   ratings_count            1281 non-null   int64  \n",
      " 8   reviews_count            1281 non-null   int64  \n",
      " 9   text_reviews_count       1281 non-null   int64  \n",
      " 10  work_ratings_count       1281 non-null   int64  \n",
      " 11  work_reviews_count       1281 non-null   int64  \n",
      " 12  work_text_reviews_count  1281 non-null   int64  \n",
      " 13  average_rating           1281 non-null   float64\n",
      "dtypes: float64(1), int64(8), object(5)\n",
      "memory usage: 150.1+ KB\n"
     ]
    }
   ],
   "source": [
    "data.info()"
   ]
  },
  {
   "cell_type": "markdown",
   "metadata": {},
   "source": [
    "# More Cleaning"
   ]
  },
  {
   "cell_type": "markdown",
   "metadata": {},
   "source": [
    "Check for outliers in columns"
   ]
  },
  {
   "cell_type": "code",
   "execution_count": 12,
   "metadata": {},
   "outputs": [
    {
     "data": {
      "text/html": [
       "<div>\n",
       "<style scoped>\n",
       "    .dataframe tbody tr th:only-of-type {\n",
       "        vertical-align: middle;\n",
       "    }\n",
       "\n",
       "    .dataframe tbody tr th {\n",
       "        vertical-align: top;\n",
       "    }\n",
       "\n",
       "    .dataframe thead th {\n",
       "        text-align: right;\n",
       "    }\n",
       "</style>\n",
       "<table border=\"1\" class=\"dataframe\">\n",
       "  <thead>\n",
       "    <tr style=\"text-align: right;\">\n",
       "      <th></th>\n",
       "      <th>weeks_on_list</th>\n",
       "      <th>no_of_words_title</th>\n",
       "      <th>ratings_count</th>\n",
       "      <th>reviews_count</th>\n",
       "      <th>text_reviews_count</th>\n",
       "      <th>work_ratings_count</th>\n",
       "      <th>work_reviews_count</th>\n",
       "      <th>work_text_reviews_count</th>\n",
       "      <th>average_rating</th>\n",
       "    </tr>\n",
       "  </thead>\n",
       "  <tbody>\n",
       "    <tr>\n",
       "      <th>count</th>\n",
       "      <td>1281.00000</td>\n",
       "      <td>1281.000000</td>\n",
       "      <td>1281.000000</td>\n",
       "      <td>1281.000000</td>\n",
       "      <td>1281.000000</td>\n",
       "      <td>1.281000e+03</td>\n",
       "      <td>1.281000e+03</td>\n",
       "      <td>1281.000000</td>\n",
       "      <td>1281.000000</td>\n",
       "    </tr>\n",
       "    <tr>\n",
       "      <th>mean</th>\n",
       "      <td>2.08587</td>\n",
       "      <td>2.788447</td>\n",
       "      <td>6303.367681</td>\n",
       "      <td>13394.940671</td>\n",
       "      <td>626.480874</td>\n",
       "      <td>6.917531e+04</td>\n",
       "      <td>1.264610e+05</td>\n",
       "      <td>4966.917252</td>\n",
       "      <td>3.977908</td>\n",
       "    </tr>\n",
       "    <tr>\n",
       "      <th>std</th>\n",
       "      <td>6.27212</td>\n",
       "      <td>1.269125</td>\n",
       "      <td>25584.140842</td>\n",
       "      <td>52285.396699</td>\n",
       "      <td>2232.462220</td>\n",
       "      <td>1.948541e+05</td>\n",
       "      <td>3.165952e+05</td>\n",
       "      <td>10787.522436</td>\n",
       "      <td>0.254302</td>\n",
       "    </tr>\n",
       "    <tr>\n",
       "      <th>min</th>\n",
       "      <td>0.00000</td>\n",
       "      <td>1.000000</td>\n",
       "      <td>0.000000</td>\n",
       "      <td>0.000000</td>\n",
       "      <td>0.000000</td>\n",
       "      <td>4.500000e+01</td>\n",
       "      <td>1.770000e+02</td>\n",
       "      <td>2.000000</td>\n",
       "      <td>2.930000</td>\n",
       "    </tr>\n",
       "    <tr>\n",
       "      <th>25%</th>\n",
       "      <td>0.00000</td>\n",
       "      <td>2.000000</td>\n",
       "      <td>22.000000</td>\n",
       "      <td>44.000000</td>\n",
       "      <td>5.000000</td>\n",
       "      <td>7.363000e+03</td>\n",
       "      <td>1.562200e+04</td>\n",
       "      <td>656.000000</td>\n",
       "      <td>3.820000</td>\n",
       "    </tr>\n",
       "    <tr>\n",
       "      <th>50%</th>\n",
       "      <td>1.00000</td>\n",
       "      <td>3.000000</td>\n",
       "      <td>91.000000</td>\n",
       "      <td>157.000000</td>\n",
       "      <td>20.000000</td>\n",
       "      <td>1.732800e+04</td>\n",
       "      <td>3.443500e+04</td>\n",
       "      <td>1513.000000</td>\n",
       "      <td>3.990000</td>\n",
       "    </tr>\n",
       "    <tr>\n",
       "      <th>75%</th>\n",
       "      <td>1.00000</td>\n",
       "      <td>3.000000</td>\n",
       "      <td>995.000000</td>\n",
       "      <td>2220.000000</td>\n",
       "      <td>149.000000</td>\n",
       "      <td>4.640300e+04</td>\n",
       "      <td>9.318300e+04</td>\n",
       "      <td>4069.000000</td>\n",
       "      <td>4.150000</td>\n",
       "    </tr>\n",
       "    <tr>\n",
       "      <th>max</th>\n",
       "      <td>102.00000</td>\n",
       "      <td>9.000000</td>\n",
       "      <td>445495.000000</td>\n",
       "      <td>717491.000000</td>\n",
       "      <td>29788.000000</td>\n",
       "      <td>2.582981e+06</td>\n",
       "      <td>3.716929e+06</td>\n",
       "      <td>132562.000000</td>\n",
       "      <td>4.610000</td>\n",
       "    </tr>\n",
       "  </tbody>\n",
       "</table>\n",
       "</div>"
      ],
      "text/plain": [
       "       weeks_on_list  no_of_words_title  ratings_count  reviews_count  \\\n",
       "count     1281.00000        1281.000000    1281.000000    1281.000000   \n",
       "mean         2.08587           2.788447    6303.367681   13394.940671   \n",
       "std          6.27212           1.269125   25584.140842   52285.396699   \n",
       "min          0.00000           1.000000       0.000000       0.000000   \n",
       "25%          0.00000           2.000000      22.000000      44.000000   \n",
       "50%          1.00000           3.000000      91.000000     157.000000   \n",
       "75%          1.00000           3.000000     995.000000    2220.000000   \n",
       "max        102.00000           9.000000  445495.000000  717491.000000   \n",
       "\n",
       "       text_reviews_count  work_ratings_count  work_reviews_count  \\\n",
       "count         1281.000000        1.281000e+03        1.281000e+03   \n",
       "mean           626.480874        6.917531e+04        1.264610e+05   \n",
       "std           2232.462220        1.948541e+05        3.165952e+05   \n",
       "min              0.000000        4.500000e+01        1.770000e+02   \n",
       "25%              5.000000        7.363000e+03        1.562200e+04   \n",
       "50%             20.000000        1.732800e+04        3.443500e+04   \n",
       "75%            149.000000        4.640300e+04        9.318300e+04   \n",
       "max          29788.000000        2.582981e+06        3.716929e+06   \n",
       "\n",
       "       work_text_reviews_count  average_rating  \n",
       "count              1281.000000     1281.000000  \n",
       "mean               4966.917252        3.977908  \n",
       "std               10787.522436        0.254302  \n",
       "min                   2.000000        2.930000  \n",
       "25%                 656.000000        3.820000  \n",
       "50%                1513.000000        3.990000  \n",
       "75%                4069.000000        4.150000  \n",
       "max              132562.000000        4.610000  "
      ]
     },
     "execution_count": 12,
     "metadata": {},
     "output_type": "execute_result"
    }
   ],
   "source": [
    "data.describe()"
   ]
  },
  {
   "cell_type": "code",
   "execution_count": 13,
   "metadata": {},
   "outputs": [],
   "source": [
    "# Divide that the merged dataframe into 4 different dataframes for clear visualization \n",
    "df1 = data[['weeks_on_list']]\n",
    "df2 = data[['no_of_words_title','average_rating']]\n",
    "df3 = data[['reviews_count','text_reviews_count','work_text_reviews_count','ratings_count']]\n",
    "df4 = data[['work_reviews_count','work_ratings_count']]"
   ]
  },
  {
   "cell_type": "markdown",
   "metadata": {},
   "source": [
    "##### Plot the boxplots to visualize the outliers"
   ]
  },
  {
   "cell_type": "code",
   "execution_count": 14,
   "metadata": {},
   "outputs": [
    {
     "data": {
      "image/png": "[encoded data removed]",
      "text/plain": [
       "<Figure size 576x396 with 1 Axes>"
      ]
     },
     "metadata": {},
     "output_type": "display_data"
    }
   ],
   "source": [
    "flierprops = dict(marker='o', markersize=5, markerfacecolor='red')\n",
    "sns.boxplot(x=\"variable\", y=\"value\", data=pd.melt(df1), linewidth=2.5, \n",
    "            palette=\"Set3\", flierprops=flierprops)\n",
    "plt.show()"
   ]
  },
  {
   "cell_type": "code",
   "execution_count": 15,
   "metadata": {},
   "outputs": [
    {
     "data": {
      "image/png": "[encoded data removed]",
      "text/plain": [
       "<Figure size 576x396 with 1 Axes>"
      ]
     },
     "metadata": {},
     "output_type": "display_data"
    }
   ],
   "source": [
    "sns.boxplot(x=\"variable\", y=\"value\", data=pd.melt(df2), linewidth=2.5, \n",
    "            palette=\"Set3\", flierprops=flierprops)\n",
    "plt.show()"
   ]
  },
  {
   "cell_type": "code",
   "execution_count": 16,
   "metadata": {},
   "outputs": [
    {
     "data": {
      "image/png": "[encoded data removed]",
      "text/plain": [
       "<Figure size 576x396 with 1 Axes>"
      ]
     },
     "metadata": {},
     "output_type": "display_data"
    }
   ],
   "source": [
    "sns.boxplot(x=\"variable\", y=\"value\", data=pd.melt(df3), linewidth=2.5, \n",
    "            palette=\"Set3\", flierprops=flierprops)\n",
    "plt.show()"
   ]
  },
  {
   "cell_type": "code",
   "execution_count": 17,
   "metadata": {},
   "outputs": [
    {
     "data": {
      "image/png": "[encoded data removed]",
      "text/plain": [
       "<Figure size 576x396 with 1 Axes>"
      ]
     },
     "metadata": {},
     "output_type": "display_data"
    }
   ],
   "source": [
    "sns.boxplot(x=\"variable\", y=\"value\", data=pd.melt(df4), linewidth=2.5, \n",
    "            palette=\"Set3\", flierprops=flierprops)\n",
    "plt.show()"
   ]
  },
  {
   "cell_type": "code",
   "execution_count": 18,
   "metadata": {},
   "outputs": [],
   "source": [
    "# Limit the ranges in columns to remove outliers\n",
    "data = data.loc[(data['weeks_on_list'] <= 17)].copy()\n",
    "data = data.loc[(data['no_of_words_title'] <= 6)].copy()\n",
    "data = data.loc[(data['average_rating'] > 3.00)].copy()\n",
    "data = data.loc[(data['reviews_count'] < 200000)].copy()\n",
    "data = data.loc[(data['text_reviews_count'] < 10000)].copy()\n",
    "data = data.loc[(data['work_text_reviews_count'] <= 50000)].copy()\n",
    "data = data.loc[(data['ratings_count'] < 115000)].copy()\n",
    "data = data.loc[(data['work_reviews_count'] < 1500000)].copy()\n",
    "data = data.loc[(data['work_ratings_count'] < 1000000)].copy()"
   ]
  },
  {
   "cell_type": "code",
   "execution_count": 19,
   "metadata": {},
   "outputs": [],
   "source": [
    "# Set the dataframes again after eliminating outliers\n",
    "df1 = data[['weeks_on_list']]\n",
    "df2 = data[['no_of_words_title','average_rating']]\n",
    "df3 = data[['reviews_count','text_reviews_count','work_text_reviews_count','ratings_count']]\n",
    "df4 = data[['work_reviews_count','work_ratings_count']]"
   ]
  },
  {
   "cell_type": "markdown",
   "metadata": {},
   "source": [
    "##### Plot the boxplots again to see the results"
   ]
  },
  {
   "cell_type": "code",
   "execution_count": 20,
   "metadata": {},
   "outputs": [
    {
     "data": {
      "image/png": "[encoded data removed]",
      "text/plain": [
       "<Figure size 576x396 with 1 Axes>"
      ]
     },
     "metadata": {},
     "output_type": "display_data"
    }
   ],
   "source": [
    "sns.boxplot(x=\"variable\", y=\"value\", data=pd.melt(df1), linewidth=2.5, \n",
    "            palette=\"Set3\", flierprops=flierprops)\n",
    "plt.show()"
   ]
  },
  {
   "cell_type": "code",
   "execution_count": 21,
   "metadata": {},
   "outputs": [
    {
     "data": {
      "image/png": "[encoded data removed]",
      "text/plain": [
       "<Figure size 576x396 with 1 Axes>"
      ]
     },
     "metadata": {},
     "output_type": "display_data"
    }
   ],
   "source": [
    "sns.boxplot(x=\"variable\", y=\"value\", data=pd.melt(df2), linewidth=2.5, \n",
    "            palette=\"Set3\", flierprops=flierprops)\n",
    "plt.show()"
   ]
  },
  {
   "cell_type": "code",
   "execution_count": 22,
   "metadata": {},
   "outputs": [
    {
     "data": {
      "image/png": "[encoded data removed]",
      "text/plain": [
       "<Figure size 576x396 with 1 Axes>"
      ]
     },
     "metadata": {},
     "output_type": "display_data"
    }
   ],
   "source": [
    "sns.boxplot(x=\"variable\", y=\"value\", data=pd.melt(df3), linewidth=2.5, \n",
    "            palette=\"Set3\", flierprops=flierprops)\n",
    "plt.show()"
   ]
  },
  {
   "cell_type": "code",
   "execution_count": null,
   "metadata": {},
   "outputs": [],
   "source": []
  },
  {
   "cell_type": "code",
   "execution_count": 23,
   "metadata": {},
   "outputs": [
    {
     "data": {
      "image/png": "[encoded data removed]",
      "text/plain": [
       "<Figure size 576x396 with 1 Axes>"
      ]
     },
     "metadata": {},
     "output_type": "display_data"
    }
   ],
   "source": [
    "sns.boxplot(x=\"variable\", y=\"value\", data=pd.melt(df4), linewidth=2.5, \n",
    "            palette=\"Set3\", flierprops=flierprops)\n",
    "plt.show()"
   ]
  },
  {
   "cell_type": "code",
   "execution_count": 24,
   "metadata": {},
   "outputs": [
    {
     "data": {
      "text/html": [
       "<div>\n",
       "<style scoped>\n",
       "    .dataframe tbody tr th:only-of-type {\n",
       "        vertical-align: middle;\n",
       "    }\n",
       "\n",
       "    .dataframe tbody tr th {\n",
       "        vertical-align: top;\n",
       "    }\n",
       "\n",
       "    .dataframe thead th {\n",
       "        text-align: right;\n",
       "    }\n",
       "</style>\n",
       "<table border=\"1\" class=\"dataframe\">\n",
       "  <thead>\n",
       "    <tr style=\"text-align: right;\">\n",
       "      <th></th>\n",
       "      <th>weeks_on_list</th>\n",
       "      <th>no_of_words_title</th>\n",
       "      <th>ratings_count</th>\n",
       "      <th>reviews_count</th>\n",
       "      <th>text_reviews_count</th>\n",
       "      <th>work_ratings_count</th>\n",
       "      <th>work_reviews_count</th>\n",
       "      <th>work_text_reviews_count</th>\n",
       "      <th>average_rating</th>\n",
       "    </tr>\n",
       "  </thead>\n",
       "  <tbody>\n",
       "    <tr>\n",
       "      <th>count</th>\n",
       "      <td>1215.000000</td>\n",
       "      <td>1215.000000</td>\n",
       "      <td>1215.000000</td>\n",
       "      <td>1215.000000</td>\n",
       "      <td>1215.000000</td>\n",
       "      <td>1215.000000</td>\n",
       "      <td>1.215000e+03</td>\n",
       "      <td>1215.000000</td>\n",
       "      <td>1215.000000</td>\n",
       "    </tr>\n",
       "    <tr>\n",
       "      <th>mean</th>\n",
       "      <td>1.360494</td>\n",
       "      <td>2.736626</td>\n",
       "      <td>3751.211523</td>\n",
       "      <td>7941.692181</td>\n",
       "      <td>390.095473</td>\n",
       "      <td>44806.940741</td>\n",
       "      <td>8.466811e+04</td>\n",
       "      <td>3447.869136</td>\n",
       "      <td>3.976741</td>\n",
       "    </tr>\n",
       "    <tr>\n",
       "      <th>std</th>\n",
       "      <td>2.317846</td>\n",
       "      <td>1.164310</td>\n",
       "      <td>11864.112871</td>\n",
       "      <td>24450.464957</td>\n",
       "      <td>1151.049818</td>\n",
       "      <td>91514.465811</td>\n",
       "      <td>1.574557e+05</td>\n",
       "      <td>5754.555105</td>\n",
       "      <td>0.251159</td>\n",
       "    </tr>\n",
       "    <tr>\n",
       "      <th>min</th>\n",
       "      <td>0.000000</td>\n",
       "      <td>1.000000</td>\n",
       "      <td>0.000000</td>\n",
       "      <td>0.000000</td>\n",
       "      <td>0.000000</td>\n",
       "      <td>45.000000</td>\n",
       "      <td>1.770000e+02</td>\n",
       "      <td>2.000000</td>\n",
       "      <td>3.060000</td>\n",
       "    </tr>\n",
       "    <tr>\n",
       "      <th>25%</th>\n",
       "      <td>0.000000</td>\n",
       "      <td>2.000000</td>\n",
       "      <td>21.000000</td>\n",
       "      <td>42.000000</td>\n",
       "      <td>5.000000</td>\n",
       "      <td>7042.000000</td>\n",
       "      <td>1.508450e+04</td>\n",
       "      <td>623.500000</td>\n",
       "      <td>3.820000</td>\n",
       "    </tr>\n",
       "    <tr>\n",
       "      <th>50%</th>\n",
       "      <td>1.000000</td>\n",
       "      <td>3.000000</td>\n",
       "      <td>80.000000</td>\n",
       "      <td>146.000000</td>\n",
       "      <td>18.000000</td>\n",
       "      <td>15924.000000</td>\n",
       "      <td>3.180500e+04</td>\n",
       "      <td>1404.000000</td>\n",
       "      <td>3.990000</td>\n",
       "    </tr>\n",
       "    <tr>\n",
       "      <th>75%</th>\n",
       "      <td>1.000000</td>\n",
       "      <td>3.000000</td>\n",
       "      <td>676.000000</td>\n",
       "      <td>1446.500000</td>\n",
       "      <td>104.000000</td>\n",
       "      <td>40904.000000</td>\n",
       "      <td>7.837450e+04</td>\n",
       "      <td>3397.500000</td>\n",
       "      <td>4.150000</td>\n",
       "    </tr>\n",
       "    <tr>\n",
       "      <th>max</th>\n",
       "      <td>16.000000</td>\n",
       "      <td>6.000000</td>\n",
       "      <td>105021.000000</td>\n",
       "      <td>184021.000000</td>\n",
       "      <td>9413.000000</td>\n",
       "      <td>886392.000000</td>\n",
       "      <td>1.398689e+06</td>\n",
       "      <td>47031.000000</td>\n",
       "      <td>4.610000</td>\n",
       "    </tr>\n",
       "  </tbody>\n",
       "</table>\n",
       "</div>"
      ],
      "text/plain": [
       "       weeks_on_list  no_of_words_title  ratings_count  reviews_count  \\\n",
       "count    1215.000000        1215.000000    1215.000000    1215.000000   \n",
       "mean        1.360494           2.736626    3751.211523    7941.692181   \n",
       "std         2.317846           1.164310   11864.112871   24450.464957   \n",
       "min         0.000000           1.000000       0.000000       0.000000   \n",
       "25%         0.000000           2.000000      21.000000      42.000000   \n",
       "50%         1.000000           3.000000      80.000000     146.000000   \n",
       "75%         1.000000           3.000000     676.000000    1446.500000   \n",
       "max        16.000000           6.000000  105021.000000  184021.000000   \n",
       "\n",
       "       text_reviews_count  work_ratings_count  work_reviews_count  \\\n",
       "count         1215.000000         1215.000000        1.215000e+03   \n",
       "mean           390.095473        44806.940741        8.466811e+04   \n",
       "std           1151.049818        91514.465811        1.574557e+05   \n",
       "min              0.000000           45.000000        1.770000e+02   \n",
       "25%              5.000000         7042.000000        1.508450e+04   \n",
       "50%             18.000000        15924.000000        3.180500e+04   \n",
       "75%            104.000000        40904.000000        7.837450e+04   \n",
       "max           9413.000000       886392.000000        1.398689e+06   \n",
       "\n",
       "       work_text_reviews_count  average_rating  \n",
       "count              1215.000000     1215.000000  \n",
       "mean               3447.869136        3.976741  \n",
       "std                5754.555105        0.251159  \n",
       "min                   2.000000        3.060000  \n",
       "25%                 623.500000        3.820000  \n",
       "50%                1404.000000        3.990000  \n",
       "75%                3397.500000        4.150000  \n",
       "max               47031.000000        4.610000  "
      ]
     },
     "execution_count": 24,
     "metadata": {},
     "output_type": "execute_result"
    }
   ],
   "source": [
    "data.describe()"
   ]
  },
  {
   "cell_type": "code",
   "execution_count": 25,
   "metadata": {},
   "outputs": [
    {
     "name": "stdout",
     "output_type": "stream",
     "text": [
      "<class 'pandas.core.frame.DataFrame'>\n",
      "Int64Index: 1215 entries, 24 to 1286\n",
      "Data columns (total 14 columns):\n",
      " #   Column                   Non-Null Count  Dtype  \n",
      "---  ------                   --------------  -----  \n",
      " 0   publisher                1215 non-null   object \n",
      " 1   author                   1215 non-null   object \n",
      " 2   isbn                     1215 non-null   object \n",
      " 3   date                     1215 non-null   object \n",
      " 4   title                    1215 non-null   object \n",
      " 5   weeks_on_list            1215 non-null   int64  \n",
      " 6   no_of_words_title        1215 non-null   int64  \n",
      " 7   ratings_count            1215 non-null   int64  \n",
      " 8   reviews_count            1215 non-null   int64  \n",
      " 9   text_reviews_count       1215 non-null   int64  \n",
      " 10  work_ratings_count       1215 non-null   int64  \n",
      " 11  work_reviews_count       1215 non-null   int64  \n",
      " 12  work_text_reviews_count  1215 non-null   int64  \n",
      " 13  average_rating           1215 non-null   float64\n",
      "dtypes: float64(1), int64(8), object(5)\n",
      "memory usage: 142.4+ KB\n"
     ]
    }
   ],
   "source": [
    "data.info()"
   ]
  },
  {
   "cell_type": "markdown",
   "metadata": {},
   "source": [
    "# Save the cleaned merged dataframe into a new CSV file"
   ]
  },
  {
   "cell_type": "code",
   "execution_count": 26,
   "metadata": {},
   "outputs": [],
   "source": [
    "data.to_csv('merge_data.csv')"
   ]
  },
  {
   "cell_type": "code",
   "execution_count": null,
   "metadata": {},
   "outputs": [],
   "source": []
  }
 ],
 "metadata": {
  "kernelspec": {
   "display_name": "Python 3",
   "language": "python",
   "name": "python3"
  },
  "language_info": {
   "codemirror_mode": {
    "name": "ipython",
    "version": 3
   },
   "file_extension": ".py",
   "mimetype": "text/x-python",
   "name": "python",
   "nbconvert_exporter": "python",
   "pygments_lexer": "ipython3",
   "version": "3.7.6"
  }
 },
 "nbformat": 4,
 "nbformat_minor": 4
}
